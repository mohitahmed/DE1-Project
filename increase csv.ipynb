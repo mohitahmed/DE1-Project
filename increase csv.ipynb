{
 "cells": [
  {
   "cell_type": "code",
   "execution_count": 1,
   "id": "c3b7aafd-6505-49a8-b40d-e980186040bd",
   "metadata": {},
   "outputs": [],
   "source": [
    "#code to increase dataset size by duplication\n",
    "original_file_path = \"extracted_info.csv\"\n",
    "duplicated_file_path = \"enlarged_extracted_info.csv\"\n",
    "\n",
    "# Open the original CSV file for reading\n",
    "with open(original_file_path, 'r') as original_file:\n",
    "    # Read the content of the original CSV file\n",
    "    content = original_file.read()\n",
    "\n",
    "# Open the duplicated CSV file for writing\n",
    "with open(duplicated_file_path, 'w') as duplicated_file:\n",
    "    # Write the content of the original CSV file multiple times to duplicate it\n",
    "    for _ in range(1650):  # Change this number to increase the duplication factor\n",
    "        duplicated_file.write(content)"
   ]
  }
 ],
 "metadata": {
  "kernelspec": {
   "display_name": "Python 3 (ipykernel)",
   "language": "python",
   "name": "python3"
  },
  "language_info": {
   "codemirror_mode": {
    "name": "ipython",
    "version": 3
   },
   "file_extension": ".py",
   "mimetype": "text/x-python",
   "name": "python",
   "nbconvert_exporter": "python",
   "pygments_lexer": "ipython3",
   "version": "3.8.10"
  }
 },
 "nbformat": 4,
 "nbformat_minor": 5
}
